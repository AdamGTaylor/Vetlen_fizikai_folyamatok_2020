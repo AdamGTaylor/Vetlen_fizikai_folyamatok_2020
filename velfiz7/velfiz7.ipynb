{
 "cells": [
  {
   "cell_type": "markdown",
   "metadata": {},
   "source": [
    "## Hálózat: Véletlen Gráf\n",
    "\n",
    "Nagyon egyszerű lesz ennek a véletlen gráfnak a meggenerálása: egyszerűen fogom, megadok a megint algoritmusnak egy N számot, ami jelölni fogja, hogy hány node keletkezzen, illetve ugyanennyi linknek kell majd létrejönnie. A gráf alkotása véletlen, így a linkek megalkotása egy véletlenszerű választás alapján történik, tehát a meglévő linkek köül kell majd egyet választani arra,hogy csatlakozási esemény menjen végbe. Hány darab szimulációt kell amjd lefuttotni, hogy az analitikushoz hasonló eredményt kapjunk? Válasz: sokat"
   ]
  },
  {
   "cell_type": "code",
   "execution_count": 1,
   "metadata": {},
   "outputs": [],
   "source": [
    "import matplotlib.pyplot as plt\n",
    "import numpy as np\n",
    "import random\n",
    "import collections\n",
    "\n",
    "import sys \n",
    "import os"
   ]
  },
  {
   "cell_type": "code",
   "execution_count": 66,
   "metadata": {},
   "outputs": [],
   "source": [
    "def simulate_graph(N,num):\n",
    "    node_list = []\n",
    "    link_list = []\n",
    "    #initialized datastructures, now onto the initialized state\n",
    "    #consideration: instead of having one node at the start, i should start wih 2 because the second one can only choose the first one\n",
    "    node_list.append(0), node_list.append(1)\n",
    "    link_list.append([0,1])\n",
    "    #now we can start:\n",
    "    for i in range(2,N):\n",
    "        choosen_node = np.random.choice(node_list)\n",
    "        link_list.append([choosen_node, i])\n",
    "        node_list.append(i)\n",
    "    node_list = np.array(node_list, dtype='int'); link_list = np.array(link_list, dtype='int')\n",
    "    save_output(node_list,link_list,N,num)\n",
    "    return node_list, link_list\n",
    "def save_output(node_list,link_list,N,num):\n",
    "    path = 'graphs_N' + str(N)\n",
    "    path_nl = path + 'node_list_' + str(num) + \".txt\"\n",
    "    path_ll = path + 'link_list_' + str(num) + \".txt\"\n",
    "    np.savetxt(path_nl, node_list, delimiter=',', fmt='%i')\n",
    "    np.savetxt(path_ll, link_list, delimiter=',', fmt='%i')\n",
    "    \n",
    "def count_k_pos(node_list, link_list):\n",
    "    \n",
    "    unique, counts = np.unique(link_list, return_counts= True )\n",
    "    each_node_k = \n",
    "    unique, counts = np.unique()"
   ]
  },
  {
   "cell_type": "code",
   "execution_count": 67,
   "metadata": {},
   "outputs": [],
   "source": [
    "N1 = 100\n",
    "num = 1\n",
    "node_list1, link_list1 =  simulate_graph(N1,1)"
   ]
  },
  {
   "cell_type": "code",
   "execution_count": 69,
   "metadata": {},
   "outputs": [],
   "source": [
    "num1 = 5\n",
    "super_nl_100 = []\n",
    "super_ll_100 = []\n",
    "N1 = 100\n",
    "for i in range(1,num1+1):\n",
    "    node_list_new, link_list_new = simulate_graph(N1,i)\n",
    "    super_nl_100.append(node_list_new)\n",
    "    super_ll_100.append(link_list_new)"
   ]
  },
  {
   "cell_type": "code",
   "execution_count": 70,
   "metadata": {},
   "outputs": [],
   "source": [
    "num1 = 5\n",
    "super_nl_100 = []\n",
    "super_ll_100 = []\n",
    "N2 = 1000\n",
    "for i in range(1,num1+1):\n",
    "    node_list_new, link_list_new = simulate_graph(N2,i)\n",
    "    super_nl_100.append(node_list_new)\n",
    "    super_ll_100.append(link_list_new)"
   ]
  },
  {
   "cell_type": "code",
   "execution_count": 71,
   "metadata": {},
   "outputs": [],
   "source": [
    "num1 = 5\n",
    "super_nl_100 = []\n",
    "super_ll_100 = []\n",
    "N3 = 10000\n",
    "for i in range(1,num1+1):\n",
    "    node_list_new, link_list_new = simulate_graph(N3,i)\n",
    "    super_nl_100.append(node_list_new)\n",
    "    super_ll_100.append(link_list_new)"
   ]
  },
  {
   "cell_type": "code",
   "execution_count": null,
   "metadata": {},
   "outputs": [],
   "source": []
  }
 ],
 "metadata": {
  "kernelspec": {
   "display_name": "Python 3",
   "language": "python",
   "name": "python3"
  },
  "language_info": {
   "codemirror_mode": {
    "name": "ipython",
    "version": 3
   },
   "file_extension": ".py",
   "mimetype": "text/x-python",
   "name": "python",
   "nbconvert_exporter": "python",
   "pygments_lexer": "ipython3",
   "version": "3.7.6"
  }
 },
 "nbformat": 4,
 "nbformat_minor": 4
}
